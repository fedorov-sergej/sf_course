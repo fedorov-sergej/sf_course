{
 "cells": [
  {
   "cell_type": "code",
   "execution_count": 1,
   "metadata": {},
   "outputs": [
    {
     "name": "stdout",
     "output_type": "stream",
     "text": [
      "Ваш алгоритм угадывает число в среднем за 5 попыток\n"
     ]
    },
    {
     "data": {
      "text/plain": [
       "5"
      ]
     },
     "execution_count": 1,
     "metadata": {},
     "output_type": "execute_result"
    }
   ],
   "source": [
    "import numpy as lib_numpy\n",
    "\n",
    "def get_middle_interval(start, end):\n",
    "    '''функция принимает границы интервала и возвращает середину'''\n",
    "    start -= 1\n",
    "    end += 1\n",
    "    \n",
    "    return start + int((end-start)/2)\n",
    "\n",
    "\n",
    "def guess_number(number, interval):\n",
    "    '''Функция принимает загаданное число и возвращает число попыток.\n",
    "       Сначала находим элемент, стоящий в центре интервала, и сравниваем его с\n",
    "       загаданным числом. Потом сдвигаем границы интервала возможных вариантов в\n",
    "       зависимости от того, больше или меньше подставляемое число. Далее берется\n",
    "       середина, но уже уменьшенного интервала. Повторяем действия до нахождения\n",
    "       загаданного числа.'''\n",
    "    count = 1\n",
    "    interval_start = interval['start']\n",
    "    interval_end = interval['end']\n",
    "    predict = get_middle_interval(interval_start, interval_end)\n",
    "   \n",
    "    # выход из цикла, если угадали\n",
    "    while number != predict:\n",
    "        count+=1\n",
    "        if number > predict: \n",
    "            interval_start = predict + 1\n",
    "        elif number < predict: \n",
    "            interval_end = predict - 1\n",
    "        predict = get_middle_interval(interval_start,interval_end)\n",
    "\n",
    "    return(count) \n",
    "        \n",
    "\n",
    "def score_game(game_core, interval={'start':1,'end':100}):\n",
    "    '''Запускаем игру 1000 раз, чтобы узнать, как быстро игра угадывает число'''\n",
    "    # фиксируем RANDOM SEED, чтобы эксперимент был воспроизводим!\n",
    "    lib_numpy.random.seed(1)  \n",
    "    random_array = lib_numpy.random.randint(interval['start'], interval['end']+1, size=(1000))\n",
    "    count_list = []\n",
    "    \n",
    "    for number in random_array:\n",
    "        count_list.append(game_core(number, interval))\n",
    "    score = int(lib_numpy.mean(count_list))\n",
    "    print(f\"Ваш алгоритм угадывает число в среднем за {score} попыток\")\n",
    "    \n",
    "    return(score)\n",
    "\n",
    "\n",
    "# запускаем\n",
    "score_game(guess_number)"
   ]
  }
 ],
 "metadata": {
  "kernelspec": {
   "display_name": "Python 3",
   "language": "python",
   "name": "python3"
  },
  "language_info": {
   "codemirror_mode": {
    "name": "ipython",
    "version": 3
   },
   "file_extension": ".py",
   "mimetype": "text/x-python",
   "name": "python",
   "nbconvert_exporter": "python",
   "pygments_lexer": "ipython3",
   "version": "3.7.6"
  }
 },
 "nbformat": 4,
 "nbformat_minor": 4
}
